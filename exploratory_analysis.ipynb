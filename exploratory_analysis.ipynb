{
 "cells": [
  {
   "cell_type": "markdown",
   "metadata": {},
   "source": [
    "# Exploratory Data Analysis \n"
   ]
  },
  {
   "cell_type": "code",
   "execution_count": 92,
   "metadata": {},
   "outputs": [],
   "source": [
    "#standard libraries \n",
    "import pandas as pd \n",
    "import numpy as np \n",
    "import seaborn as sns\n",
    "import matplotlib.pyplot as plt\n",
    "from matplotlib import pyplot\n",
    "from matplotlib import rcParams\n",
    "%matplotlib inline"
   ]
  },
  {
   "cell_type": "code",
   "execution_count": 17,
   "metadata": {},
   "outputs": [],
   "source": [
    "#import nhanes data \n",
    "df = pd.read_csv('nhanes_extracted.csv')"
   ]
  },
  {
   "cell_type": "code",
   "execution_count": 18,
   "metadata": {},
   "outputs": [],
   "source": [
    "df.drop(columns = ['Unnamed: 0'], axis=1, inplace=True)"
   ]
  },
  {
   "cell_type": "code",
   "execution_count": 19,
   "metadata": {},
   "outputs": [
    {
     "data": {
      "text/html": [
       "<div>\n",
       "<style scoped>\n",
       "    .dataframe tbody tr th:only-of-type {\n",
       "        vertical-align: middle;\n",
       "    }\n",
       "\n",
       "    .dataframe tbody tr th {\n",
       "        vertical-align: top;\n",
       "    }\n",
       "\n",
       "    .dataframe thead th {\n",
       "        text-align: right;\n",
       "    }\n",
       "</style>\n",
       "<table border=\"1\" class=\"dataframe\">\n",
       "  <thead>\n",
       "    <tr style=\"text-align: right;\">\n",
       "      <th></th>\n",
       "      <th>SEQN</th>\n",
       "      <th>Gender</th>\n",
       "      <th>Age</th>\n",
       "      <th>Ethnicity</th>\n",
       "      <th>FHx</th>\n",
       "      <th>Fasting Glucose (mmol/L)</th>\n",
       "      <th>Two Hour Glucose(OGTT) (mmol/L)</th>\n",
       "      <th>How long ago saw a diabetes specialist</th>\n",
       "      <th>Retinopathy</th>\n",
       "      <th>Last time had pupils dilated for exam</th>\n",
       "      <th>...</th>\n",
       "      <th>metformin</th>\n",
       "      <th>other_agents</th>\n",
       "      <th>ace_arbs</th>\n",
       "      <th>eGFR</th>\n",
       "      <th>HbA1c_correct</th>\n",
       "      <th>known_diabetes</th>\n",
       "      <th>hba1c_result</th>\n",
       "      <th>MAP</th>\n",
       "      <th>ogtt_result</th>\n",
       "      <th>diagnostic_t2dm</th>\n",
       "    </tr>\n",
       "  </thead>\n",
       "  <tbody>\n",
       "    <tr>\n",
       "      <th>0</th>\n",
       "      <td>83732</td>\n",
       "      <td>1.0</td>\n",
       "      <td>62.0</td>\n",
       "      <td>3.0</td>\n",
       "      <td>1.0</td>\n",
       "      <td>NaN</td>\n",
       "      <td>NaN</td>\n",
       "      <td>4.0</td>\n",
       "      <td>2.0</td>\n",
       "      <td>2.0</td>\n",
       "      <td>...</td>\n",
       "      <td>1</td>\n",
       "      <td>1</td>\n",
       "      <td>1</td>\n",
       "      <td>90.878589</td>\n",
       "      <td>52.995190</td>\n",
       "      <td>1.0</td>\n",
       "      <td>1.0</td>\n",
       "      <td>83.60</td>\n",
       "      <td>0</td>\n",
       "      <td>1</td>\n",
       "    </tr>\n",
       "    <tr>\n",
       "      <th>1</th>\n",
       "      <td>83733</td>\n",
       "      <td>1.0</td>\n",
       "      <td>53.0</td>\n",
       "      <td>3.0</td>\n",
       "      <td>1.0</td>\n",
       "      <td>5.59</td>\n",
       "      <td>NaN</td>\n",
       "      <td>NaN</td>\n",
       "      <td>NaN</td>\n",
       "      <td>NaN</td>\n",
       "      <td>...</td>\n",
       "      <td>0</td>\n",
       "      <td>0</td>\n",
       "      <td>0</td>\n",
       "      <td>78.529438</td>\n",
       "      <td>36.598164</td>\n",
       "      <td>2.0</td>\n",
       "      <td>0.0</td>\n",
       "      <td>102.96</td>\n",
       "      <td>0</td>\n",
       "      <td>0</td>\n",
       "    </tr>\n",
       "    <tr>\n",
       "      <th>2</th>\n",
       "      <td>83734</td>\n",
       "      <td>1.0</td>\n",
       "      <td>78.0</td>\n",
       "      <td>3.0</td>\n",
       "      <td>2.0</td>\n",
       "      <td>4.66</td>\n",
       "      <td>8.66</td>\n",
       "      <td>3.0</td>\n",
       "      <td>2.0</td>\n",
       "      <td>2.0</td>\n",
       "      <td>...</td>\n",
       "      <td>0</td>\n",
       "      <td>0</td>\n",
       "      <td>1</td>\n",
       "      <td>67.393831</td>\n",
       "      <td>NaN</td>\n",
       "      <td>1.0</td>\n",
       "      <td>NaN</td>\n",
       "      <td>74.58</td>\n",
       "      <td>0</td>\n",
       "      <td>0</td>\n",
       "    </tr>\n",
       "    <tr>\n",
       "      <th>3</th>\n",
       "      <td>83735</td>\n",
       "      <td>2.0</td>\n",
       "      <td>56.0</td>\n",
       "      <td>3.0</td>\n",
       "      <td>NaN</td>\n",
       "      <td>NaN</td>\n",
       "      <td>NaN</td>\n",
       "      <td>NaN</td>\n",
       "      <td>NaN</td>\n",
       "      <td>NaN</td>\n",
       "      <td>...</td>\n",
       "      <td>0</td>\n",
       "      <td>0</td>\n",
       "      <td>0</td>\n",
       "      <td>63.898943</td>\n",
       "      <td>37.691299</td>\n",
       "      <td>2.0</td>\n",
       "      <td>0.0</td>\n",
       "      <td>90.42</td>\n",
       "      <td>0</td>\n",
       "      <td>0</td>\n",
       "    </tr>\n",
       "    <tr>\n",
       "      <th>4</th>\n",
       "      <td>83737</td>\n",
       "      <td>2.0</td>\n",
       "      <td>72.0</td>\n",
       "      <td>1.0</td>\n",
       "      <td>1.0</td>\n",
       "      <td>5.93</td>\n",
       "      <td>5.50</td>\n",
       "      <td>NaN</td>\n",
       "      <td>NaN</td>\n",
       "      <td>NaN</td>\n",
       "      <td>...</td>\n",
       "      <td>0</td>\n",
       "      <td>0</td>\n",
       "      <td>0</td>\n",
       "      <td>49.298425</td>\n",
       "      <td>40.970704</td>\n",
       "      <td>2.0</td>\n",
       "      <td>0.0</td>\n",
       "      <td>78.10</td>\n",
       "      <td>0</td>\n",
       "      <td>0</td>\n",
       "    </tr>\n",
       "  </tbody>\n",
       "</table>\n",
       "<p>5 rows × 42 columns</p>\n",
       "</div>"
      ],
      "text/plain": [
       "    SEQN  Gender   Age  Ethnicity  FHx  Fasting Glucose (mmol/L)  \\\n",
       "0  83732     1.0  62.0        3.0  1.0                       NaN   \n",
       "1  83733     1.0  53.0        3.0  1.0                      5.59   \n",
       "2  83734     1.0  78.0        3.0  2.0                      4.66   \n",
       "3  83735     2.0  56.0        3.0  NaN                       NaN   \n",
       "4  83737     2.0  72.0        1.0  1.0                      5.93   \n",
       "\n",
       "   Two Hour Glucose(OGTT) (mmol/L)  How long ago saw a diabetes specialist  \\\n",
       "0                              NaN                                     4.0   \n",
       "1                              NaN                                     NaN   \n",
       "2                             8.66                                     3.0   \n",
       "3                              NaN                                     NaN   \n",
       "4                             5.50                                     NaN   \n",
       "\n",
       "   Retinopathy  Last time had pupils dilated for exam  ...  metformin  \\\n",
       "0          2.0                                    2.0  ...          1   \n",
       "1          NaN                                    NaN  ...          0   \n",
       "2          2.0                                    2.0  ...          0   \n",
       "3          NaN                                    NaN  ...          0   \n",
       "4          NaN                                    NaN  ...          0   \n",
       "\n",
       "   other_agents  ace_arbs       eGFR  HbA1c_correct  known_diabetes  \\\n",
       "0             1         1  90.878589      52.995190             1.0   \n",
       "1             0         0  78.529438      36.598164             2.0   \n",
       "2             0         1  67.393831            NaN             1.0   \n",
       "3             0         0  63.898943      37.691299             2.0   \n",
       "4             0         0  49.298425      40.970704             2.0   \n",
       "\n",
       "   hba1c_result     MAP  ogtt_result  diagnostic_t2dm  \n",
       "0           1.0   83.60            0                1  \n",
       "1           0.0  102.96            0                0  \n",
       "2           NaN   74.58            0                0  \n",
       "3           0.0   90.42            0                0  \n",
       "4           0.0   78.10            0                0  \n",
       "\n",
       "[5 rows x 42 columns]"
      ]
     },
     "execution_count": 19,
     "metadata": {},
     "output_type": "execute_result"
    }
   ],
   "source": [
    "df.head()"
   ]
  },
  {
   "cell_type": "code",
   "execution_count": 20,
   "metadata": {},
   "outputs": [
    {
     "data": {
      "text/plain": [
       "(28273, 42)"
      ]
     },
     "execution_count": 20,
     "metadata": {},
     "output_type": "execute_result"
    }
   ],
   "source": [
    "df.shape"
   ]
  },
  {
   "cell_type": "code",
   "execution_count": 21,
   "metadata": {},
   "outputs": [
    {
     "data": {
      "text/plain": [
       "Index(['SEQN', 'Gender', 'Age', 'Ethnicity', 'FHx', 'Fasting Glucose (mmol/L)',\n",
       "       'Two Hour Glucose(OGTT) (mmol/L)',\n",
       "       'How long ago saw a diabetes specialist', 'Retinopathy',\n",
       "       'Last time had pupils dilated for exam', 'bmi',\n",
       "       'Alanine Aminotransferase (ALT) (U/L)',\n",
       "       'Albumin, refrigerated serum (g/dL)',\n",
       "       'Alkaline Phosphatase (ALP) (U/L)',\n",
       "       'Aspartate Aminotransferase (AST) (U/L)', 'Bicarbonate (mmol/L)',\n",
       "       'Blood Urea Nitrogen (g/dL)', 'Chloride (mmol/L)',\n",
       "       'Cholesterol, refrigerated serum (mg/dL)',\n",
       "       'Creatinine, refrigerated serum (umol/L)',\n",
       "       'Gamma Glutamyl Transferase (GGT) (U/L)',\n",
       "       'Glucose, refrigerated serum (mmol/L)', 'Potassium (mmol/L)',\n",
       "       'Sodium (mmol/L)', 'Total Bilirubin (umol/L)', 'Total Calcium (mmol/L)',\n",
       "       'Triglycerides, refrig serum (mg/dL)', 'LDL cholesterol (mmol/L)',\n",
       "       'HDL cholesterol (mmol/L)', 'Prescriptions', 'insulin', 'statin',\n",
       "       'metformin', 'other_agents', 'ace_arbs', 'eGFR', 'HbA1c_correct',\n",
       "       'known_diabetes', 'hba1c_result', 'MAP', 'ogtt_result',\n",
       "       'diagnostic_t2dm'],\n",
       "      dtype='object')"
      ]
     },
     "execution_count": 21,
     "metadata": {},
     "output_type": "execute_result"
    }
   ],
   "source": [
    "df.columns"
   ]
  },
  {
   "cell_type": "code",
   "execution_count": 22,
   "metadata": {},
   "outputs": [],
   "source": [
    "#remove participants with no laboratory values \n",
    "labs = ['Alanine Aminotransferase (ALT) (U/L)',\n",
    "       'Albumin, refrigerated serum (g/dL)',\n",
    "       'Alkaline Phosphatase (ALP) (U/L)',\n",
    "       'Aspartate Aminotransferase (AST) (U/L)', 'Bicarbonate (mmol/L)',\n",
    "       'Blood Urea Nitrogen (g/dL)', 'Chloride (mmol/L)',\n",
    "       'Cholesterol, refrigerated serum (mg/dL)',\n",
    "       'Creatinine, refrigerated serum (umol/L)',\n",
    "       'Gamma Glutamyl Transferase (GGT) (U/L)',\n",
    "       'Glucose, refrigerated serum (mmol/L)', 'Potassium (mmol/L)',\n",
    "       'Sodium (mmol/L)', 'Total Bilirubin (umol/L)', 'Total Calcium (mmol/L)',\n",
    "       'Triglycerides, refrig serum (mg/dL)', 'LDL cholesterol (mmol/L)',\n",
    "       'HDL cholesterol (mmol/L)', 'eGFR', 'Fasting Glucose (mmol/L)',\n",
    "       'Two Hour Glucose(OGTT) (mmol/L)']"
   ]
  },
  {
   "cell_type": "code",
   "execution_count": 23,
   "metadata": {},
   "outputs": [],
   "source": [
    "df.dropna(how='all', subset=labs, inplace=True)"
   ]
  },
  {
   "cell_type": "code",
   "execution_count": 24,
   "metadata": {},
   "outputs": [
    {
     "data": {
      "text/plain": [
       "(25726, 42)"
      ]
     },
     "execution_count": 24,
     "metadata": {},
     "output_type": "execute_result"
    }
   ],
   "source": [
    "df.shape"
   ]
  },
  {
   "cell_type": "code",
   "execution_count": 25,
   "metadata": {},
   "outputs": [
    {
     "data": {
      "text/plain": [
       "2547"
      ]
     },
     "execution_count": 25,
     "metadata": {},
     "output_type": "execute_result"
    }
   ],
   "source": [
    "#2547 participants removed because they had no laboratory value recorded \n",
    "28273 - 25726"
   ]
  },
  {
   "cell_type": "code",
   "execution_count": 28,
   "metadata": {},
   "outputs": [],
   "source": [
    "#remove participants with no HbA1c (target variable)"
   ]
  },
  {
   "cell_type": "code",
   "execution_count": 27,
   "metadata": {},
   "outputs": [],
   "source": [
    "df.dropna(subset=['hba1c_result'], inplace=True)"
   ]
  },
  {
   "cell_type": "code",
   "execution_count": 29,
   "metadata": {},
   "outputs": [
    {
     "data": {
      "text/plain": [
       "(21361, 42)"
      ]
     },
     "execution_count": 29,
     "metadata": {},
     "output_type": "execute_result"
    }
   ],
   "source": [
    "df.shape"
   ]
  },
  {
   "cell_type": "code",
   "execution_count": 30,
   "metadata": {},
   "outputs": [
    {
     "data": {
      "text/plain": [
       "4365"
      ]
     },
     "execution_count": 30,
     "metadata": {},
     "output_type": "execute_result"
    }
   ],
   "source": [
    "#4365 participants removed because they had no HbA1c value recorded \n",
    "25726 - 21361"
   ]
  },
  {
   "cell_type": "code",
   "execution_count": 31,
   "metadata": {},
   "outputs": [
    {
     "data": {
      "text/plain": [
       "(21361, 42)"
      ]
     },
     "execution_count": 31,
     "metadata": {},
     "output_type": "execute_result"
    }
   ],
   "source": [
    "#final study population \n",
    "df.shape"
   ]
  },
  {
   "cell_type": "markdown",
   "metadata": {},
   "source": [
    "# Demographics "
   ]
  },
  {
   "cell_type": "code",
   "execution_count": 42,
   "metadata": {},
   "outputs": [
    {
     "data": {
      "text/plain": [
       "known_diabetes  Gender\n",
       "1.0             2.0       1271\n",
       "                1.0       1019\n",
       "2.0             2.0       9905\n",
       "                1.0       8706\n",
       "3.0             2.0        250\n",
       "                1.0        210\n",
       "Name: Gender, dtype: int64"
      ]
     },
     "execution_count": 42,
     "metadata": {},
     "output_type": "execute_result"
    }
   ],
   "source": [
    "df.groupby('known_diabetes')['Gender'].value_counts(dropna=False)"
   ]
  },
  {
   "cell_type": "code",
   "execution_count": 43,
   "metadata": {},
   "outputs": [
    {
     "data": {
      "text/plain": [
       "known_diabetes  Ethnicity\n",
       "1.0             3.0           824\n",
       "                4.0           497\n",
       "                1.0           458\n",
       "                2.0           288\n",
       "                5.0           223\n",
       "2.0             3.0          8603\n",
       "                4.0          2937\n",
       "                1.0          2921\n",
       "                5.0          2112\n",
       "                2.0          2038\n",
       "3.0             3.0           206\n",
       "                4.0            87\n",
       "                1.0            76\n",
       "                5.0            48\n",
       "                2.0            43\n",
       "Name: Ethnicity, dtype: int64"
      ]
     },
     "execution_count": 43,
     "metadata": {},
     "output_type": "execute_result"
    }
   ],
   "source": [
    "df.groupby('known_diabetes')['Ethnicity'].value_counts(dropna=False)"
   ]
  },
  {
   "cell_type": "code",
   "execution_count": 39,
   "metadata": {},
   "outputs": [
    {
     "data": {
      "text/html": [
       "<div>\n",
       "<style scoped>\n",
       "    .dataframe tbody tr th:only-of-type {\n",
       "        vertical-align: middle;\n",
       "    }\n",
       "\n",
       "    .dataframe tbody tr th {\n",
       "        vertical-align: top;\n",
       "    }\n",
       "\n",
       "    .dataframe thead th {\n",
       "        text-align: right;\n",
       "    }\n",
       "</style>\n",
       "<table border=\"1\" class=\"dataframe\">\n",
       "  <thead>\n",
       "    <tr style=\"text-align: right;\">\n",
       "      <th></th>\n",
       "      <th>count</th>\n",
       "      <th>mean</th>\n",
       "      <th>std</th>\n",
       "      <th>min</th>\n",
       "      <th>25%</th>\n",
       "      <th>50%</th>\n",
       "      <th>75%</th>\n",
       "      <th>max</th>\n",
       "    </tr>\n",
       "    <tr>\n",
       "      <th>known_diabetes</th>\n",
       "      <th></th>\n",
       "      <th></th>\n",
       "      <th></th>\n",
       "      <th></th>\n",
       "      <th></th>\n",
       "      <th></th>\n",
       "      <th></th>\n",
       "      <th></th>\n",
       "    </tr>\n",
       "  </thead>\n",
       "  <tbody>\n",
       "    <tr>\n",
       "      <th>1.0</th>\n",
       "      <td>2290.0</td>\n",
       "      <td>60.522707</td>\n",
       "      <td>12.408817</td>\n",
       "      <td>21.0</td>\n",
       "      <td>52.0</td>\n",
       "      <td>62.0</td>\n",
       "      <td>70.0</td>\n",
       "      <td>80.0</td>\n",
       "    </tr>\n",
       "    <tr>\n",
       "      <th>2.0</th>\n",
       "      <td>18611.0</td>\n",
       "      <td>47.330987</td>\n",
       "      <td>16.924806</td>\n",
       "      <td>21.0</td>\n",
       "      <td>33.0</td>\n",
       "      <td>46.0</td>\n",
       "      <td>61.0</td>\n",
       "      <td>80.0</td>\n",
       "    </tr>\n",
       "    <tr>\n",
       "      <th>3.0</th>\n",
       "      <td>460.0</td>\n",
       "      <td>57.993478</td>\n",
       "      <td>13.845788</td>\n",
       "      <td>21.0</td>\n",
       "      <td>49.0</td>\n",
       "      <td>59.0</td>\n",
       "      <td>67.0</td>\n",
       "      <td>80.0</td>\n",
       "    </tr>\n",
       "  </tbody>\n",
       "</table>\n",
       "</div>"
      ],
      "text/plain": [
       "                  count       mean        std   min   25%   50%   75%   max\n",
       "known_diabetes                                                             \n",
       "1.0              2290.0  60.522707  12.408817  21.0  52.0  62.0  70.0  80.0\n",
       "2.0             18611.0  47.330987  16.924806  21.0  33.0  46.0  61.0  80.0\n",
       "3.0               460.0  57.993478  13.845788  21.0  49.0  59.0  67.0  80.0"
      ]
     },
     "execution_count": 39,
     "metadata": {},
     "output_type": "execute_result"
    }
   ],
   "source": [
    "df.groupby('known_diabetes')['Age'].describe()"
   ]
  },
  {
   "cell_type": "code",
   "execution_count": 44,
   "metadata": {},
   "outputs": [
    {
     "data": {
      "text/plain": [
       "known_diabetes  FHx\n",
       "1.0             1.0     1534\n",
       "                2.0      698\n",
       "                NaN       58\n",
       "2.0             2.0    11590\n",
       "                1.0     6673\n",
       "                NaN      348\n",
       "3.0             1.0      274\n",
       "                2.0      177\n",
       "                NaN        9\n",
       "Name: FHx, dtype: int64"
      ]
     },
     "execution_count": 44,
     "metadata": {},
     "output_type": "execute_result"
    }
   ],
   "source": [
    "df.groupby('known_diabetes')['FHx'].value_counts(dropna=False)"
   ]
  },
  {
   "cell_type": "markdown",
   "metadata": {},
   "source": [
    "# Current Diabetic Status \n"
   ]
  },
  {
   "cell_type": "code",
   "execution_count": 46,
   "metadata": {},
   "outputs": [
    {
     "data": {
      "text/plain": [
       "2.0    18611\n",
       "1.0     2290\n",
       "3.0      460\n",
       "Name: known_diabetes, dtype: int64"
      ]
     },
     "execution_count": 46,
     "metadata": {},
     "output_type": "execute_result"
    }
   ],
   "source": [
    "df['known_diabetes'].value_counts(dropna=False)"
   ]
  },
  {
   "cell_type": "code",
   "execution_count": 47,
   "metadata": {},
   "outputs": [
    {
     "data": {
      "text/plain": [
       "0.0    19328\n",
       "1.0     2033\n",
       "Name: hba1c_result, dtype: int64"
      ]
     },
     "execution_count": 47,
     "metadata": {},
     "output_type": "execute_result"
    }
   ],
   "source": [
    "df['hba1c_result'].value_counts(dropna=False)"
   ]
  },
  {
   "cell_type": "code",
   "execution_count": 48,
   "metadata": {},
   "outputs": [
    {
     "data": {
      "text/plain": [
       "0    19758\n",
       "1     1603\n",
       "Name: ogtt_result, dtype: int64"
      ]
     },
     "execution_count": 48,
     "metadata": {},
     "output_type": "execute_result"
    }
   ],
   "source": [
    "df['ogtt_result'].value_counts(dropna=False)"
   ]
  },
  {
   "cell_type": "code",
   "execution_count": 50,
   "metadata": {},
   "outputs": [
    {
     "data": {
      "text/plain": [
       "count    21209.000000\n",
       "mean         5.698079\n",
       "std          2.160577\n",
       "min          1.830000\n",
       "25%          4.770000\n",
       "50%          5.160000\n",
       "75%          5.770000\n",
       "max         33.860000\n",
       "Name: Glucose, refrigerated serum (mmol/L), dtype: float64"
      ]
     },
     "execution_count": 50,
     "metadata": {},
     "output_type": "execute_result"
    }
   ],
   "source": [
    "df['Glucose, refrigerated serum (mmol/L)'].describe()"
   ]
  },
  {
   "cell_type": "code",
   "execution_count": 52,
   "metadata": {},
   "outputs": [
    {
     "data": {
      "text/plain": [
       "<matplotlib.axes._subplots.AxesSubplot at 0x1a3a704750>"
      ]
     },
     "execution_count": 52,
     "metadata": {},
     "output_type": "execute_result"
    },
    {
     "data": {
      "image/png": "[encoded data removed]",
      "text/plain": [
       "<Figure size 432x288 with 1 Axes>"
      ]
     },
     "metadata": {
      "needs_background": "light"
     },
     "output_type": "display_data"
    }
   ],
   "source": [
    "sns.distplot(df['Glucose, refrigerated serum (mmol/L)'])"
   ]
  },
  {
   "cell_type": "code",
   "execution_count": 53,
   "metadata": {},
   "outputs": [
    {
     "data": {
      "text/plain": [
       "0    18583\n",
       "1     2778\n",
       "Name: diagnostic_t2dm, dtype: int64"
      ]
     },
     "execution_count": 53,
     "metadata": {},
     "output_type": "execute_result"
    }
   ],
   "source": [
    "df['diagnostic_t2dm'].value_counts(dropna=False)"
   ]
  },
  {
   "cell_type": "markdown",
   "metadata": {},
   "source": [
    "# Unrecognised T2DM "
   ]
  },
  {
   "cell_type": "code",
   "execution_count": 70,
   "metadata": {},
   "outputs": [],
   "source": [
    "def unrecognised_t2dm(row): \n",
    "    \n",
    "    if (row['hba1c_result'] ==1): \n",
    "        if row['known_diabetes']==1: \n",
    "            return('Recognised T2DM')\n",
    "        else: \n",
    "            return('Unrecognised T2DM')\n",
    "        \n",
    "    elif row['ogtt_result'] == 1: \n",
    "        if row['known_diabetes']==1: \n",
    "            return('Recognised T2DM')\n",
    "        else: \n",
    "            return('Unrecognised T2DM')\n",
    "        \n",
    "    else: \n",
    "        return('Not T2DM')"
   ]
  },
  {
   "cell_type": "code",
   "execution_count": 71,
   "metadata": {},
   "outputs": [],
   "source": [
    "df['unrecognised_t2dm'] = df.apply(unrecognised_t2dm, axis=1)"
   ]
  },
  {
   "cell_type": "code",
   "execution_count": 72,
   "metadata": {},
   "outputs": [
    {
     "data": {
      "text/plain": [
       "Not T2DM             18583\n",
       "Recognised T2DM       1620\n",
       "Unrecognised T2DM     1158\n",
       "Name: unrecognised_t2dm, dtype: int64"
      ]
     },
     "execution_count": 72,
     "metadata": {},
     "output_type": "execute_result"
    }
   ],
   "source": [
    "df['unrecognised_t2dm'].value_counts(dropna=False)"
   ]
  },
  {
   "cell_type": "code",
   "execution_count": 73,
   "metadata": {},
   "outputs": [
    {
     "data": {
      "text/plain": [
       "0.4168466522678186"
      ]
     },
     "execution_count": 73,
     "metadata": {},
     "output_type": "execute_result"
    }
   ],
   "source": [
    "#41.6% of all participants with biochemical evidence of T2DM were not aware of their diabetic status \n",
    "1158/(1158+1620)"
   ]
  },
  {
   "cell_type": "code",
   "execution_count": 79,
   "metadata": {},
   "outputs": [
    {
     "data": {
      "text/plain": [
       "0.3108636773999398"
      ]
     },
     "execution_count": 79,
     "metadata": {},
     "output_type": "execute_result"
    }
   ],
   "source": [
    "#31.1% of all participants who should have a diagnosis of T2DM were not aware of their status \n",
    "1033/(1033+2290)"
   ]
  },
  {
   "cell_type": "code",
   "execution_count": 74,
   "metadata": {},
   "outputs": [
    {
     "data": {
      "text/plain": [
       "2.0    18611\n",
       "1.0     2290\n",
       "3.0      460\n",
       "Name: known_diabetes, dtype: int64"
      ]
     },
     "execution_count": 74,
     "metadata": {},
     "output_type": "execute_result"
    }
   ],
   "source": [
    "df['known_diabetes'].value_counts(dropna=False)"
   ]
  },
  {
   "cell_type": "code",
   "execution_count": 78,
   "metadata": {},
   "outputs": [
    {
     "data": {
      "text/plain": [
       "known_diabetes  unrecognised_t2dm\n",
       "1.0             Recognised T2DM       1620\n",
       "                Not T2DM               670\n",
       "2.0             Not T2DM             17578\n",
       "                Unrecognised T2DM     1033\n",
       "3.0             Not T2DM               335\n",
       "                Unrecognised T2DM      125\n",
       "Name: unrecognised_t2dm, dtype: int64"
      ]
     },
     "execution_count": 78,
     "metadata": {},
     "output_type": "execute_result"
    }
   ],
   "source": [
    "df.groupby('known_diabetes')['unrecognised_t2dm'].value_counts(dropna=False)"
   ]
  },
  {
   "cell_type": "markdown",
   "metadata": {},
   "source": [
    "# Treatment "
   ]
  },
  {
   "cell_type": "code",
   "execution_count": 90,
   "metadata": {},
   "outputs": [
    {
     "data": {
      "text/plain": [
       "metformin       1506\n",
       "other_agents     535\n",
       "insulin          577\n",
       "ace_arbs        3640\n",
       "statin          3732\n",
       "dtype: int64"
      ]
     },
     "execution_count": 90,
     "metadata": {},
     "output_type": "execute_result"
    }
   ],
   "source": [
    "df[['metformin', 'other_agents', 'insulin', 'ace_arbs', 'statin']].sum()"
   ]
  },
  {
   "cell_type": "code",
   "execution_count": 91,
   "metadata": {},
   "outputs": [
    {
     "data": {
      "text/html": [
       "<div>\n",
       "<style scoped>\n",
       "    .dataframe tbody tr th:only-of-type {\n",
       "        vertical-align: middle;\n",
       "    }\n",
       "\n",
       "    .dataframe tbody tr th {\n",
       "        vertical-align: top;\n",
       "    }\n",
       "\n",
       "    .dataframe thead th {\n",
       "        text-align: right;\n",
       "    }\n",
       "</style>\n",
       "<table border=\"1\" class=\"dataframe\">\n",
       "  <thead>\n",
       "    <tr style=\"text-align: right;\">\n",
       "      <th></th>\n",
       "      <th>metformin</th>\n",
       "      <th>insulin</th>\n",
       "    </tr>\n",
       "    <tr>\n",
       "      <th>known_diabetes</th>\n",
       "      <th></th>\n",
       "      <th></th>\n",
       "    </tr>\n",
       "  </thead>\n",
       "  <tbody>\n",
       "    <tr>\n",
       "      <th>1.0</th>\n",
       "      <td>1328</td>\n",
       "      <td>570</td>\n",
       "    </tr>\n",
       "    <tr>\n",
       "      <th>2.0</th>\n",
       "      <td>112</td>\n",
       "      <td>7</td>\n",
       "    </tr>\n",
       "    <tr>\n",
       "      <th>3.0</th>\n",
       "      <td>66</td>\n",
       "      <td>0</td>\n",
       "    </tr>\n",
       "  </tbody>\n",
       "</table>\n",
       "</div>"
      ],
      "text/plain": [
       "                metformin  insulin\n",
       "known_diabetes                    \n",
       "1.0                  1328      570\n",
       "2.0                   112        7\n",
       "3.0                    66        0"
      ]
     },
     "execution_count": 91,
     "metadata": {},
     "output_type": "execute_result"
    }
   ],
   "source": [
    "df.groupby('known_diabetes')[['metformin', 'insulin']].sum()"
   ]
  },
  {
   "cell_type": "code",
   "execution_count": null,
   "metadata": {},
   "outputs": [],
   "source": []
  }
 ],
 "metadata": {
  "kernelspec": {
   "display_name": "Python 3",
   "language": "python",
   "name": "python3"
  },
  "language_info": {
   "codemirror_mode": {
    "name": "ipython",
    "version": 3
   },
   "file_extension": ".py",
   "mimetype": "text/x-python",
   "name": "python",
   "nbconvert_exporter": "python",
   "pygments_lexer": "ipython3",
   "version": "3.7.4"
  }
 },
 "nbformat": 4,
 "nbformat_minor": 4
}
