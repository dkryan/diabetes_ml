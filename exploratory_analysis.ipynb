{
 "cells": [
  {
   "cell_type": "markdown",
   "metadata": {},
   "source": [
    "# Exploratory Data Analysis \n"
   ]
  },
  {
   "cell_type": "code",
   "execution_count": 77,
   "metadata": {},
   "outputs": [],
   "source": [
    "#standard libraries \n",
    "import pandas as pd \n",
    "import numpy as np \n",
    "import seaborn as sns\n",
    "import matplotlib.pyplot as plt\n",
    "from matplotlib import pyplot\n",
    "from matplotlib import rcParams\n",
    "%matplotlib inline"
   ]
  },
  {
   "cell_type": "code",
   "execution_count": 78,
   "metadata": {},
   "outputs": [],
   "source": [
    "#import nhanes data \n",
    "df = pd.read_csv('nhanes_extracted.csv')"
   ]
  },
  {
   "cell_type": "code",
   "execution_count": 79,
   "metadata": {},
   "outputs": [],
   "source": [
    "df.drop(columns = ['Unnamed: 0'], axis=1, inplace=True)"
   ]
  },
  {
   "cell_type": "code",
   "execution_count": 80,
   "metadata": {},
   "outputs": [
    {
     "data": {
      "text/html": [
       "<div>\n",
       "<style scoped>\n",
       "    .dataframe tbody tr th:only-of-type {\n",
       "        vertical-align: middle;\n",
       "    }\n",
       "\n",
       "    .dataframe tbody tr th {\n",
       "        vertical-align: top;\n",
       "    }\n",
       "\n",
       "    .dataframe thead th {\n",
       "        text-align: right;\n",
       "    }\n",
       "</style>\n",
       "<table border=\"1\" class=\"dataframe\">\n",
       "  <thead>\n",
       "    <tr style=\"text-align: right;\">\n",
       "      <th></th>\n",
       "      <th>SEQN</th>\n",
       "      <th>Gender</th>\n",
       "      <th>Age</th>\n",
       "      <th>Ethnicity</th>\n",
       "      <th>FHx</th>\n",
       "      <th>Fasting Glucose (mmol/L)</th>\n",
       "      <th>Two Hour Glucose(OGTT) (mmol/L)</th>\n",
       "      <th>How long ago saw a diabetes specialist</th>\n",
       "      <th>Retinopathy</th>\n",
       "      <th>Last time had pupils dilated for exam</th>\n",
       "      <th>...</th>\n",
       "      <th>metformin</th>\n",
       "      <th>other_agents</th>\n",
       "      <th>ace_arbs</th>\n",
       "      <th>eGFR</th>\n",
       "      <th>HbA1c_correct</th>\n",
       "      <th>known_diabetes</th>\n",
       "      <th>hba1c_result</th>\n",
       "      <th>MAP</th>\n",
       "      <th>ogtt_result</th>\n",
       "      <th>diagnostic_t2dm</th>\n",
       "    </tr>\n",
       "  </thead>\n",
       "  <tbody>\n",
       "    <tr>\n",
       "      <th>0</th>\n",
       "      <td>83732</td>\n",
       "      <td>1.0</td>\n",
       "      <td>62.0</td>\n",
       "      <td>3.0</td>\n",
       "      <td>1.0</td>\n",
       "      <td>NaN</td>\n",
       "      <td>NaN</td>\n",
       "      <td>4.0</td>\n",
       "      <td>2.0</td>\n",
       "      <td>2.0</td>\n",
       "      <td>...</td>\n",
       "      <td>1</td>\n",
       "      <td>1</td>\n",
       "      <td>1</td>\n",
       "      <td>90.878589</td>\n",
       "      <td>52.995190</td>\n",
       "      <td>1.0</td>\n",
       "      <td>1.0</td>\n",
       "      <td>83.60</td>\n",
       "      <td>0</td>\n",
       "      <td>1</td>\n",
       "    </tr>\n",
       "    <tr>\n",
       "      <th>1</th>\n",
       "      <td>83733</td>\n",
       "      <td>1.0</td>\n",
       "      <td>53.0</td>\n",
       "      <td>3.0</td>\n",
       "      <td>1.0</td>\n",
       "      <td>5.59</td>\n",
       "      <td>NaN</td>\n",
       "      <td>NaN</td>\n",
       "      <td>NaN</td>\n",
       "      <td>NaN</td>\n",
       "      <td>...</td>\n",
       "      <td>0</td>\n",
       "      <td>0</td>\n",
       "      <td>0</td>\n",
       "      <td>78.529438</td>\n",
       "      <td>36.598164</td>\n",
       "      <td>2.0</td>\n",
       "      <td>0.0</td>\n",
       "      <td>102.96</td>\n",
       "      <td>0</td>\n",
       "      <td>0</td>\n",
       "    </tr>\n",
       "    <tr>\n",
       "      <th>2</th>\n",
       "      <td>83734</td>\n",
       "      <td>1.0</td>\n",
       "      <td>78.0</td>\n",
       "      <td>3.0</td>\n",
       "      <td>2.0</td>\n",
       "      <td>4.66</td>\n",
       "      <td>8.66</td>\n",
       "      <td>3.0</td>\n",
       "      <td>2.0</td>\n",
       "      <td>2.0</td>\n",
       "      <td>...</td>\n",
       "      <td>0</td>\n",
       "      <td>0</td>\n",
       "      <td>1</td>\n",
       "      <td>67.393831</td>\n",
       "      <td>NaN</td>\n",
       "      <td>1.0</td>\n",
       "      <td>NaN</td>\n",
       "      <td>74.58</td>\n",
       "      <td>0</td>\n",
       "      <td>0</td>\n",
       "    </tr>\n",
       "    <tr>\n",
       "      <th>3</th>\n",
       "      <td>83735</td>\n",
       "      <td>2.0</td>\n",
       "      <td>56.0</td>\n",
       "      <td>3.0</td>\n",
       "      <td>NaN</td>\n",
       "      <td>NaN</td>\n",
       "      <td>NaN</td>\n",
       "      <td>NaN</td>\n",
       "      <td>NaN</td>\n",
       "      <td>NaN</td>\n",
       "      <td>...</td>\n",
       "      <td>0</td>\n",
       "      <td>0</td>\n",
       "      <td>0</td>\n",
       "      <td>63.898943</td>\n",
       "      <td>37.691299</td>\n",
       "      <td>2.0</td>\n",
       "      <td>0.0</td>\n",
       "      <td>90.42</td>\n",
       "      <td>0</td>\n",
       "      <td>0</td>\n",
       "    </tr>\n",
       "    <tr>\n",
       "      <th>4</th>\n",
       "      <td>83737</td>\n",
       "      <td>2.0</td>\n",
       "      <td>72.0</td>\n",
       "      <td>1.0</td>\n",
       "      <td>1.0</td>\n",
       "      <td>5.93</td>\n",
       "      <td>5.50</td>\n",
       "      <td>NaN</td>\n",
       "      <td>NaN</td>\n",
       "      <td>NaN</td>\n",
       "      <td>...</td>\n",
       "      <td>0</td>\n",
       "      <td>0</td>\n",
       "      <td>0</td>\n",
       "      <td>49.298425</td>\n",
       "      <td>40.970704</td>\n",
       "      <td>2.0</td>\n",
       "      <td>0.0</td>\n",
       "      <td>78.10</td>\n",
       "      <td>0</td>\n",
       "      <td>0</td>\n",
       "    </tr>\n",
       "  </tbody>\n",
       "</table>\n",
       "<p>5 rows × 42 columns</p>\n",
       "</div>"
      ],
      "text/plain": [
       "    SEQN  Gender   Age  Ethnicity  FHx  Fasting Glucose (mmol/L)  \\\n",
       "0  83732     1.0  62.0        3.0  1.0                       NaN   \n",
       "1  83733     1.0  53.0        3.0  1.0                      5.59   \n",
       "2  83734     1.0  78.0        3.0  2.0                      4.66   \n",
       "3  83735     2.0  56.0        3.0  NaN                       NaN   \n",
       "4  83737     2.0  72.0        1.0  1.0                      5.93   \n",
       "\n",
       "   Two Hour Glucose(OGTT) (mmol/L)  How long ago saw a diabetes specialist  \\\n",
       "0                              NaN                                     4.0   \n",
       "1                              NaN                                     NaN   \n",
       "2                             8.66                                     3.0   \n",
       "3                              NaN                                     NaN   \n",
       "4                             5.50                                     NaN   \n",
       "\n",
       "   Retinopathy  Last time had pupils dilated for exam  ...  metformin  \\\n",
       "0          2.0                                    2.0  ...          1   \n",
       "1          NaN                                    NaN  ...          0   \n",
       "2          2.0                                    2.0  ...          0   \n",
       "3          NaN                                    NaN  ...          0   \n",
       "4          NaN                                    NaN  ...          0   \n",
       "\n",
       "   other_agents  ace_arbs       eGFR  HbA1c_correct  known_diabetes  \\\n",
       "0             1         1  90.878589      52.995190             1.0   \n",
       "1             0         0  78.529438      36.598164             2.0   \n",
       "2             0         1  67.393831            NaN             1.0   \n",
       "3             0         0  63.898943      37.691299             2.0   \n",
       "4             0         0  49.298425      40.970704             2.0   \n",
       "\n",
       "   hba1c_result     MAP  ogtt_result  diagnostic_t2dm  \n",
       "0           1.0   83.60            0                1  \n",
       "1           0.0  102.96            0                0  \n",
       "2           NaN   74.58            0                0  \n",
       "3           0.0   90.42            0                0  \n",
       "4           0.0   78.10            0                0  \n",
       "\n",
       "[5 rows x 42 columns]"
      ]
     },
     "execution_count": 80,
     "metadata": {},
     "output_type": "execute_result"
    }
   ],
   "source": [
    "df.head()"
   ]
  },
  {
   "cell_type": "code",
   "execution_count": 81,
   "metadata": {},
   "outputs": [
    {
     "data": {
      "text/plain": [
       "(28273, 42)"
      ]
     },
     "execution_count": 81,
     "metadata": {},
     "output_type": "execute_result"
    }
   ],
   "source": [
    "df.shape"
   ]
  },
  {
   "cell_type": "code",
   "execution_count": 82,
   "metadata": {},
   "outputs": [
    {
     "data": {
      "text/plain": [
       "Index(['SEQN', 'Gender', 'Age', 'Ethnicity', 'FHx', 'Fasting Glucose (mmol/L)',\n",
       "       'Two Hour Glucose(OGTT) (mmol/L)',\n",
       "       'How long ago saw a diabetes specialist', 'Retinopathy',\n",
       "       'Last time had pupils dilated for exam', 'bmi',\n",
       "       'Alanine Aminotransferase (ALT) (U/L)',\n",
       "       'Albumin, refrigerated serum (g/dL)',\n",
       "       'Alkaline Phosphatase (ALP) (U/L)',\n",
       "       'Aspartate Aminotransferase (AST) (U/L)', 'Bicarbonate (mmol/L)',\n",
       "       'Blood Urea Nitrogen (g/dL)', 'Chloride (mmol/L)',\n",
       "       'Cholesterol, refrigerated serum (mg/dL)',\n",
       "       'Creatinine, refrigerated serum (umol/L)',\n",
       "       'Gamma Glutamyl Transferase (GGT) (U/L)',\n",
       "       'Glucose, refrigerated serum (mmol/L)', 'Potassium (mmol/L)',\n",
       "       'Sodium (mmol/L)', 'Total Bilirubin (umol/L)', 'Total Calcium (mmol/L)',\n",
       "       'Triglycerides, refrig serum (mg/dL)', 'LDL cholesterol (mmol/L)',\n",
       "       'HDL cholesterol (mmol/L)', 'Prescriptions', 'insulin', 'statin',\n",
       "       'metformin', 'other_agents', 'ace_arbs', 'eGFR', 'HbA1c_correct',\n",
       "       'known_diabetes', 'hba1c_result', 'MAP', 'ogtt_result',\n",
       "       'diagnostic_t2dm'],\n",
       "      dtype='object')"
      ]
     },
     "execution_count": 82,
     "metadata": {},
     "output_type": "execute_result"
    }
   ],
   "source": [
    "df.columns"
   ]
  },
  {
   "cell_type": "code",
   "execution_count": 83,
   "metadata": {},
   "outputs": [],
   "source": [
    "#remove participants with no laboratory values \n",
    "labs = ['Alanine Aminotransferase (ALT) (U/L)',\n",
    "       'Albumin, refrigerated serum (g/dL)',\n",
    "       'Alkaline Phosphatase (ALP) (U/L)',\n",
    "       'Aspartate Aminotransferase (AST) (U/L)', 'Bicarbonate (mmol/L)',\n",
    "       'Blood Urea Nitrogen (g/dL)', 'Chloride (mmol/L)',\n",
    "       'Cholesterol, refrigerated serum (mg/dL)',\n",
    "       'Creatinine, refrigerated serum (umol/L)',\n",
    "       'Gamma Glutamyl Transferase (GGT) (U/L)',\n",
    "       'Glucose, refrigerated serum (mmol/L)', 'Potassium (mmol/L)',\n",
    "       'Sodium (mmol/L)', 'Total Bilirubin (umol/L)', 'Total Calcium (mmol/L)',\n",
    "       'Triglycerides, refrig serum (mg/dL)', 'LDL cholesterol (mmol/L)',\n",
    "       'HDL cholesterol (mmol/L)', 'eGFR', 'Fasting Glucose (mmol/L)',\n",
    "       'Two Hour Glucose(OGTT) (mmol/L)']"
   ]
  },
  {
   "cell_type": "code",
   "execution_count": 84,
   "metadata": {},
   "outputs": [],
   "source": [
    "df.dropna(how='all', subset=labs, inplace=True)"
   ]
  },
  {
   "cell_type": "code",
   "execution_count": 85,
   "metadata": {},
   "outputs": [
    {
     "data": {
      "text/plain": [
       "(25726, 42)"
      ]
     },
     "execution_count": 85,
     "metadata": {},
     "output_type": "execute_result"
    }
   ],
   "source": [
    "df.shape"
   ]
  },
  {
   "cell_type": "code",
   "execution_count": 86,
   "metadata": {},
   "outputs": [
    {
     "data": {
      "text/plain": [
       "2547"
      ]
     },
     "execution_count": 86,
     "metadata": {},
     "output_type": "execute_result"
    }
   ],
   "source": [
    "#2547 participants removed because they had no laboratory value recorded \n",
    "28273 - 25726"
   ]
  },
  {
   "cell_type": "code",
   "execution_count": 87,
   "metadata": {},
   "outputs": [],
   "source": [
    "#remove participants with no HbA1c (target variable)"
   ]
  },
  {
   "cell_type": "code",
   "execution_count": 88,
   "metadata": {},
   "outputs": [],
   "source": [
    "diabetes_tests = ['hba1c_result', 'Fasting Glucose (mmol/L)', 'Two Hour Glucose(OGTT) (mmol/L)']"
   ]
  },
  {
   "cell_type": "code",
   "execution_count": 89,
   "metadata": {},
   "outputs": [],
   "source": [
    "df.dropna(how='all', subset=diabetes_tests, inplace=True)"
   ]
  },
  {
   "cell_type": "code",
   "execution_count": 90,
   "metadata": {},
   "outputs": [
    {
     "data": {
      "text/plain": [
       "(23310, 42)"
      ]
     },
     "execution_count": 90,
     "metadata": {},
     "output_type": "execute_result"
    }
   ],
   "source": [
    "df.shape"
   ]
  },
  {
   "cell_type": "code",
   "execution_count": 92,
   "metadata": {},
   "outputs": [
    {
     "data": {
      "text/plain": [
       "2416"
      ]
     },
     "execution_count": 92,
     "metadata": {},
     "output_type": "execute_result"
    }
   ],
   "source": [
    "#2416 participants removed because they had no HbA1c value recorded \n",
    "25726 - 23310"
   ]
  },
  {
   "cell_type": "code",
   "execution_count": 93,
   "metadata": {},
   "outputs": [
    {
     "data": {
      "text/plain": [
       "(23310, 42)"
      ]
     },
     "execution_count": 93,
     "metadata": {},
     "output_type": "execute_result"
    }
   ],
   "source": [
    "#final study population \n",
    "df.shape"
   ]
  },
  {
   "cell_type": "markdown",
   "metadata": {},
   "source": [
    "# Diabetic Status "
   ]
  },
  {
   "cell_type": "code",
   "execution_count": 129,
   "metadata": {},
   "outputs": [
    {
     "data": {
      "text/plain": [
       "2.0    20049\n",
       "1.0     2747\n",
       "3.0      514\n",
       "Name: known_diabetes, dtype: int64"
      ]
     },
     "execution_count": 129,
     "metadata": {},
     "output_type": "execute_result"
    }
   ],
   "source": [
    "df['known_diabetes'].value_counts(dropna=False)"
   ]
  },
  {
   "cell_type": "code",
   "execution_count": 130,
   "metadata": {},
   "outputs": [
    {
     "data": {
      "text/plain": [
       "0    20113\n",
       "1     3197\n",
       "Name: diagnostic_t2dm, dtype: int64"
      ]
     },
     "execution_count": 130,
     "metadata": {},
     "output_type": "execute_result"
    }
   ],
   "source": [
    "df['diagnostic_t2dm'].value_counts(dropna=False)"
   ]
  },
  {
   "cell_type": "markdown",
   "metadata": {},
   "source": [
    "# Demographics "
   ]
  },
  {
   "cell_type": "markdown",
   "metadata": {},
   "source": [
    "## Coding \n",
    "\n",
    "**Known Diabetes**:   \n",
    "1.0: T2DM   \n",
    "2.0: No T2DM   \n",
    "3.0: Prediabetes \n",
    "\n",
    "**Gender**:  \n",
    "1.0: Male  \n",
    "2.0: Female \n",
    "\n",
    "**Ethnicity**:   \n",
    "1.0: Mexican American   \n",
    "2.0: Other Hispanic   \n",
    "3.0: Non-Hispanic White   \n",
    "4.0: Non-Hispanic Black   \n",
    "5.0: Other Race including mutli-racial   \n",
    "\n",
    "**Family History**:   \n",
    "1.0: Yes  \t\t\n",
    "2.0: No\n"
   ]
  },
  {
   "cell_type": "code",
   "execution_count": 131,
   "metadata": {},
   "outputs": [
    {
     "data": {
      "text/plain": [
       "known_diabetes  Gender\n",
       "1.0             2.0        1421\n",
       "                1.0        1326\n",
       "2.0             2.0       10506\n",
       "                1.0        9543\n",
       "3.0             2.0         270\n",
       "                1.0         244\n",
       "Name: Gender, dtype: int64"
      ]
     },
     "execution_count": 131,
     "metadata": {},
     "output_type": "execute_result"
    }
   ],
   "source": [
    "df.groupby('known_diabetes')['Gender'].value_counts(dropna=False)"
   ]
  },
  {
   "cell_type": "code",
   "execution_count": 132,
   "metadata": {},
   "outputs": [
    {
     "data": {
      "text/plain": [
       "known_diabetes  Ethnicity\n",
       "1.0             3.0           974\n",
       "                4.0           664\n",
       "                1.0           516\n",
       "                2.0           329\n",
       "                5.0           264\n",
       "2.0             3.0          9023\n",
       "                4.0          3492\n",
       "                1.0          3090\n",
       "                5.0          2261\n",
       "                2.0          2183\n",
       "3.0             3.0           226\n",
       "                4.0           103\n",
       "                1.0            80\n",
       "                5.0            55\n",
       "                2.0            50\n",
       "Name: Ethnicity, dtype: int64"
      ]
     },
     "execution_count": 132,
     "metadata": {},
     "output_type": "execute_result"
    }
   ],
   "source": [
    "df.groupby('known_diabetes')['Ethnicity'].value_counts(dropna=False)"
   ]
  },
  {
   "cell_type": "code",
   "execution_count": 133,
   "metadata": {},
   "outputs": [
    {
     "data": {
      "text/html": [
       "<div>\n",
       "<style scoped>\n",
       "    .dataframe tbody tr th:only-of-type {\n",
       "        vertical-align: middle;\n",
       "    }\n",
       "\n",
       "    .dataframe tbody tr th {\n",
       "        vertical-align: top;\n",
       "    }\n",
       "\n",
       "    .dataframe thead th {\n",
       "        text-align: right;\n",
       "    }\n",
       "</style>\n",
       "<table border=\"1\" class=\"dataframe\">\n",
       "  <thead>\n",
       "    <tr style=\"text-align: right;\">\n",
       "      <th></th>\n",
       "      <th>count</th>\n",
       "      <th>mean</th>\n",
       "      <th>std</th>\n",
       "      <th>min</th>\n",
       "      <th>25%</th>\n",
       "      <th>50%</th>\n",
       "      <th>75%</th>\n",
       "      <th>max</th>\n",
       "    </tr>\n",
       "    <tr>\n",
       "      <th>known_diabetes</th>\n",
       "      <th></th>\n",
       "      <th></th>\n",
       "      <th></th>\n",
       "      <th></th>\n",
       "      <th></th>\n",
       "      <th></th>\n",
       "      <th></th>\n",
       "      <th></th>\n",
       "    </tr>\n",
       "  </thead>\n",
       "  <tbody>\n",
       "    <tr>\n",
       "      <th>1.0</th>\n",
       "      <td>2747.0</td>\n",
       "      <td>61.543502</td>\n",
       "      <td>12.473009</td>\n",
       "      <td>21.0</td>\n",
       "      <td>53.0</td>\n",
       "      <td>62.0</td>\n",
       "      <td>71.0</td>\n",
       "      <td>80.0</td>\n",
       "    </tr>\n",
       "    <tr>\n",
       "      <th>2.0</th>\n",
       "      <td>20049.0</td>\n",
       "      <td>47.794005</td>\n",
       "      <td>17.101117</td>\n",
       "      <td>21.0</td>\n",
       "      <td>33.0</td>\n",
       "      <td>46.0</td>\n",
       "      <td>61.0</td>\n",
       "      <td>80.0</td>\n",
       "    </tr>\n",
       "    <tr>\n",
       "      <th>3.0</th>\n",
       "      <td>514.0</td>\n",
       "      <td>58.396887</td>\n",
       "      <td>13.949577</td>\n",
       "      <td>21.0</td>\n",
       "      <td>50.0</td>\n",
       "      <td>60.0</td>\n",
       "      <td>68.0</td>\n",
       "      <td>80.0</td>\n",
       "    </tr>\n",
       "  </tbody>\n",
       "</table>\n",
       "</div>"
      ],
      "text/plain": [
       "                  count       mean        std   min   25%   50%   75%   max\n",
       "known_diabetes                                                             \n",
       "1.0              2747.0  61.543502  12.473009  21.0  53.0  62.0  71.0  80.0\n",
       "2.0             20049.0  47.794005  17.101117  21.0  33.0  46.0  61.0  80.0\n",
       "3.0               514.0  58.396887  13.949577  21.0  50.0  60.0  68.0  80.0"
      ]
     },
     "execution_count": 133,
     "metadata": {},
     "output_type": "execute_result"
    }
   ],
   "source": [
    "df.groupby('known_diabetes')['Age'].describe()"
   ]
  },
  {
   "cell_type": "code",
   "execution_count": 166,
   "metadata": {},
   "outputs": [],
   "source": [
    "known_t2dm_m = df['known_diabetes']==1 \n",
    "known_t2dm = df[known_t2dm_m]\n",
    "\n",
    "not_t2dm_m = df['known_diabetes']==2\n",
    "not_t2dm = df[not_t2dm_m]"
   ]
  },
  {
   "cell_type": "code",
   "execution_count": 171,
   "metadata": {},
   "outputs": [
    {
     "data": {
      "text/plain": [
       "MannwhitneyuResult(statistic=14668455.0, pvalue=0.0)"
      ]
     },
     "execution_count": 171,
     "metadata": {},
     "output_type": "execute_result"
    }
   ],
   "source": [
    "import scipy \n",
    "from scipy.stats import mannwhitneyu\n",
    "\n",
    "scipy.stats.mannwhitneyu(known_t2dm['Age'], not_t2dm['Age']) "
   ]
  },
  {
   "cell_type": "code",
   "execution_count": 134,
   "metadata": {},
   "outputs": [
    {
     "data": {
      "text/plain": [
       "known_diabetes  FHx\n",
       "1.0             1.0     1836\n",
       "                2.0      843\n",
       "                NaN       68\n",
       "2.0             2.0    12476\n",
       "                1.0     7189\n",
       "                NaN      384\n",
       "3.0             1.0      303\n",
       "                2.0      201\n",
       "                NaN       10\n",
       "Name: FHx, dtype: int64"
      ]
     },
     "execution_count": 134,
     "metadata": {},
     "output_type": "execute_result"
    }
   ],
   "source": [
    "df.groupby('known_diabetes')['FHx'].value_counts(dropna=False)"
   ]
  },
  {
   "cell_type": "markdown",
   "metadata": {},
   "source": [
    "# Current Diabetic Status \n"
   ]
  },
  {
   "cell_type": "code",
   "execution_count": 135,
   "metadata": {},
   "outputs": [
    {
     "data": {
      "text/plain": [
       "2.0    20049\n",
       "1.0     2747\n",
       "3.0      514\n",
       "Name: known_diabetes, dtype: int64"
      ]
     },
     "execution_count": 135,
     "metadata": {},
     "output_type": "execute_result"
    }
   ],
   "source": [
    "df['known_diabetes'].value_counts(dropna=False)"
   ]
  },
  {
   "cell_type": "code",
   "execution_count": 136,
   "metadata": {},
   "outputs": [
    {
     "data": {
      "text/plain": [
       "0.0    19328\n",
       "1.0     2033\n",
       "NaN     1949\n",
       "Name: hba1c_result, dtype: int64"
      ]
     },
     "execution_count": 136,
     "metadata": {},
     "output_type": "execute_result"
    }
   ],
   "source": [
    "df['hba1c_result'].value_counts(dropna=False)"
   ]
  },
  {
   "cell_type": "code",
   "execution_count": 137,
   "metadata": {},
   "outputs": [
    {
     "data": {
      "text/plain": [
       "0    21288\n",
       "1     2022\n",
       "Name: ogtt_result, dtype: int64"
      ]
     },
     "execution_count": 137,
     "metadata": {},
     "output_type": "execute_result"
    }
   ],
   "source": [
    "df['ogtt_result'].value_counts(dropna=False)"
   ]
  },
  {
   "cell_type": "code",
   "execution_count": null,
   "metadata": {},
   "outputs": [],
   "source": []
  },
  {
   "cell_type": "code",
   "execution_count": 138,
   "metadata": {},
   "outputs": [
    {
     "data": {
      "text/plain": [
       "count    23123.000000\n",
       "mean         5.720836\n",
       "std          2.161880\n",
       "min          1.050000\n",
       "25%          4.770000\n",
       "50%          5.160000\n",
       "75%          5.830000\n",
       "max         33.860000\n",
       "Name: Glucose, refrigerated serum (mmol/L), dtype: float64"
      ]
     },
     "execution_count": 138,
     "metadata": {},
     "output_type": "execute_result"
    }
   ],
   "source": [
    "df['Glucose, refrigerated serum (mmol/L)'].describe()"
   ]
  },
  {
   "cell_type": "code",
   "execution_count": 139,
   "metadata": {},
   "outputs": [
    {
     "data": {
      "text/plain": [
       "<matplotlib.axes._subplots.AxesSubplot at 0x1a25369d90>"
      ]
     },
     "execution_count": 139,
     "metadata": {},
     "output_type": "execute_result"
    },
    {
     "data": {
      "image/png": "[encoded data removed]",
      "text/plain": [
       "<Figure size 432x288 with 1 Axes>"
      ]
     },
     "metadata": {
      "needs_background": "light"
     },
     "output_type": "display_data"
    }
   ],
   "source": [
    "sns.distplot(df['Glucose, refrigerated serum (mmol/L)'])"
   ]
  },
  {
   "cell_type": "code",
   "execution_count": 140,
   "metadata": {},
   "outputs": [
    {
     "data": {
      "text/plain": [
       "0    20113\n",
       "1     3197\n",
       "Name: diagnostic_t2dm, dtype: int64"
      ]
     },
     "execution_count": 140,
     "metadata": {},
     "output_type": "execute_result"
    }
   ],
   "source": [
    "df['diagnostic_t2dm'].value_counts(dropna=False)"
   ]
  },
  {
   "cell_type": "code",
   "execution_count": 172,
   "metadata": {},
   "outputs": [
    {
     "data": {
      "text/html": [
       "<div>\n",
       "<style scoped>\n",
       "    .dataframe tbody tr th:only-of-type {\n",
       "        vertical-align: middle;\n",
       "    }\n",
       "\n",
       "    .dataframe tbody tr th {\n",
       "        vertical-align: top;\n",
       "    }\n",
       "\n",
       "    .dataframe thead th {\n",
       "        text-align: right;\n",
       "    }\n",
       "</style>\n",
       "<table border=\"1\" class=\"dataframe\">\n",
       "  <thead>\n",
       "    <tr style=\"text-align: right;\">\n",
       "      <th></th>\n",
       "      <th>count</th>\n",
       "      <th>mean</th>\n",
       "      <th>std</th>\n",
       "      <th>min</th>\n",
       "      <th>25%</th>\n",
       "      <th>50%</th>\n",
       "      <th>75%</th>\n",
       "      <th>max</th>\n",
       "    </tr>\n",
       "    <tr>\n",
       "      <th>known_diabetes</th>\n",
       "      <th></th>\n",
       "      <th></th>\n",
       "      <th></th>\n",
       "      <th></th>\n",
       "      <th></th>\n",
       "      <th></th>\n",
       "      <th></th>\n",
       "      <th></th>\n",
       "    </tr>\n",
       "  </thead>\n",
       "  <tbody>\n",
       "    <tr>\n",
       "      <th>1.0</th>\n",
       "      <td>2290.0</td>\n",
       "      <td>58.882367</td>\n",
       "      <td>20.501274</td>\n",
       "      <td>25.666812</td>\n",
       "      <td>44.250109</td>\n",
       "      <td>52.995190</td>\n",
       "      <td>67.205947</td>\n",
       "      <td>171.053782</td>\n",
       "    </tr>\n",
       "    <tr>\n",
       "      <th>2.0</th>\n",
       "      <td>18611.0</td>\n",
       "      <td>36.670761</td>\n",
       "      <td>6.711277</td>\n",
       "      <td>16.921732</td>\n",
       "      <td>33.318758</td>\n",
       "      <td>35.505028</td>\n",
       "      <td>38.784434</td>\n",
       "      <td>134.980324</td>\n",
       "    </tr>\n",
       "    <tr>\n",
       "      <th>3.0</th>\n",
       "      <td>460.0</td>\n",
       "      <td>43.399365</td>\n",
       "      <td>10.329312</td>\n",
       "      <td>27.853083</td>\n",
       "      <td>37.691299</td>\n",
       "      <td>40.970704</td>\n",
       "      <td>45.343244</td>\n",
       "      <td>114.210756</td>\n",
       "    </tr>\n",
       "  </tbody>\n",
       "</table>\n",
       "</div>"
      ],
      "text/plain": [
       "                  count       mean        std        min        25%  \\\n",
       "known_diabetes                                                        \n",
       "1.0              2290.0  58.882367  20.501274  25.666812  44.250109   \n",
       "2.0             18611.0  36.670761   6.711277  16.921732  33.318758   \n",
       "3.0               460.0  43.399365  10.329312  27.853083  37.691299   \n",
       "\n",
       "                      50%        75%         max  \n",
       "known_diabetes                                    \n",
       "1.0             52.995190  67.205947  171.053782  \n",
       "2.0             35.505028  38.784434  134.980324  \n",
       "3.0             40.970704  45.343244  114.210756  "
      ]
     },
     "execution_count": 172,
     "metadata": {},
     "output_type": "execute_result"
    }
   ],
   "source": [
    "df.groupby(['known_diabetes'])['HbA1c_correct'].describe()"
   ]
  },
  {
   "cell_type": "markdown",
   "metadata": {},
   "source": [
    "# Unrecognised T2DM "
   ]
  },
  {
   "cell_type": "code",
   "execution_count": 173,
   "metadata": {},
   "outputs": [],
   "source": [
    "def unrecognised_t2dm(row): \n",
    "    \n",
    "    if (row['diagnostic_t2dm'] ==1): \n",
    "        \n",
    "        if row['known_diabetes']==1: \n",
    "            return('Recognised T2DM')\n",
    "        \n",
    "        else: \n",
    "            return('Unrecognised T2DM')\n",
    "        \n",
    "    else: \n",
    "        return('Not diabetic')\n"
   ]
  },
  {
   "cell_type": "code",
   "execution_count": 174,
   "metadata": {},
   "outputs": [],
   "source": [
    "df['unrecognised_t2dm'] = df.apply(unrecognised_t2dm, axis=1)"
   ]
  },
  {
   "cell_type": "code",
   "execution_count": 175,
   "metadata": {},
   "outputs": [
    {
     "data": {
      "text/plain": [
       "Not diabetic         20113\n",
       "Recognised T2DM       1881\n",
       "Unrecognised T2DM     1316\n",
       "Name: unrecognised_t2dm, dtype: int64"
      ]
     },
     "execution_count": 175,
     "metadata": {},
     "output_type": "execute_result"
    }
   ],
   "source": [
    "df['unrecognised_t2dm'].value_counts(dropna=False)"
   ]
  },
  {
   "cell_type": "code",
   "execution_count": 176,
   "metadata": {},
   "outputs": [],
   "source": [
    "unrecognised_m = df['unrecognised_t2dm'] == 'Unrecognised T2DM'\n",
    "unrecognised_df = df[unrecognised_m]\n",
    "\n",
    "recognised_m = df['unrecognised_t2dm'] == 'Recognised T2DM'\n",
    "recognised_df = df[recognised_m]"
   ]
  },
  {
   "cell_type": "code",
   "execution_count": 178,
   "metadata": {},
   "outputs": [
    {
     "data": {
      "text/plain": [
       "0.41163590866437283"
      ]
     },
     "execution_count": 178,
     "metadata": {},
     "output_type": "execute_result"
    }
   ],
   "source": [
    "#41.6% of all participants with biochemical evidence of T2DM were not aware of their diabetic status \n",
    "1316/(1316+1881)"
   ]
  },
  {
   "cell_type": "code",
   "execution_count": 179,
   "metadata": {},
   "outputs": [
    {
     "data": {
      "text/plain": [
       "2.0    20049\n",
       "1.0     2747\n",
       "3.0      514\n",
       "Name: known_diabetes, dtype: int64"
      ]
     },
     "execution_count": 179,
     "metadata": {},
     "output_type": "execute_result"
    }
   ],
   "source": [
    "df['known_diabetes'].value_counts(dropna=False)"
   ]
  },
  {
   "cell_type": "code",
   "execution_count": 180,
   "metadata": {},
   "outputs": [
    {
     "data": {
      "text/plain": [
       "known_diabetes  unrecognised_t2dm\n",
       "1.0             Recognised T2DM       1881\n",
       "                Not diabetic           866\n",
       "2.0             Not diabetic         18876\n",
       "                Unrecognised T2DM     1173\n",
       "3.0             Not diabetic           371\n",
       "                Unrecognised T2DM      143\n",
       "Name: unrecognised_t2dm, dtype: int64"
      ]
     },
     "execution_count": 180,
     "metadata": {},
     "output_type": "execute_result"
    }
   ],
   "source": [
    "df.groupby('known_diabetes')['unrecognised_t2dm'].value_counts(dropna=False)"
   ]
  },
  {
   "cell_type": "code",
   "execution_count": 181,
   "metadata": {},
   "outputs": [
    {
     "data": {
      "text/html": [
       "<div>\n",
       "<style scoped>\n",
       "    .dataframe tbody tr th:only-of-type {\n",
       "        vertical-align: middle;\n",
       "    }\n",
       "\n",
       "    .dataframe tbody tr th {\n",
       "        vertical-align: top;\n",
       "    }\n",
       "\n",
       "    .dataframe thead th {\n",
       "        text-align: right;\n",
       "    }\n",
       "</style>\n",
       "<table border=\"1\" class=\"dataframe\">\n",
       "  <thead>\n",
       "    <tr style=\"text-align: right;\">\n",
       "      <th></th>\n",
       "      <th>count</th>\n",
       "      <th>mean</th>\n",
       "      <th>std</th>\n",
       "      <th>min</th>\n",
       "      <th>25%</th>\n",
       "      <th>50%</th>\n",
       "      <th>75%</th>\n",
       "      <th>max</th>\n",
       "    </tr>\n",
       "    <tr>\n",
       "      <th>unrecognised_t2dm</th>\n",
       "      <th></th>\n",
       "      <th></th>\n",
       "      <th></th>\n",
       "      <th></th>\n",
       "      <th></th>\n",
       "      <th></th>\n",
       "      <th></th>\n",
       "      <th></th>\n",
       "    </tr>\n",
       "  </thead>\n",
       "  <tbody>\n",
       "    <tr>\n",
       "      <th>Not diabetic</th>\n",
       "      <td>18583.0</td>\n",
       "      <td>36.107156</td>\n",
       "      <td>4.312937</td>\n",
       "      <td>16.921732</td>\n",
       "      <td>33.318758</td>\n",
       "      <td>35.505028</td>\n",
       "      <td>38.784434</td>\n",
       "      <td>47.529515</td>\n",
       "    </tr>\n",
       "    <tr>\n",
       "      <th>Recognised T2DM</th>\n",
       "      <td>1620.0</td>\n",
       "      <td>66.193110</td>\n",
       "      <td>20.084853</td>\n",
       "      <td>32.225623</td>\n",
       "      <td>51.902055</td>\n",
       "      <td>59.554001</td>\n",
       "      <td>74.857892</td>\n",
       "      <td>171.053782</td>\n",
       "    </tr>\n",
       "    <tr>\n",
       "      <th>Unrecognised T2DM</th>\n",
       "      <td>1158.0</td>\n",
       "      <td>51.011877</td>\n",
       "      <td>17.270686</td>\n",
       "      <td>22.387407</td>\n",
       "      <td>40.970704</td>\n",
       "      <td>47.529515</td>\n",
       "      <td>52.995190</td>\n",
       "      <td>134.980324</td>\n",
       "    </tr>\n",
       "  </tbody>\n",
       "</table>\n",
       "</div>"
      ],
      "text/plain": [
       "                     count       mean        std        min        25%  \\\n",
       "unrecognised_t2dm                                                        \n",
       "Not diabetic       18583.0  36.107156   4.312937  16.921732  33.318758   \n",
       "Recognised T2DM     1620.0  66.193110  20.084853  32.225623  51.902055   \n",
       "Unrecognised T2DM   1158.0  51.011877  17.270686  22.387407  40.970704   \n",
       "\n",
       "                         50%        75%         max  \n",
       "unrecognised_t2dm                                    \n",
       "Not diabetic       35.505028  38.784434   47.529515  \n",
       "Recognised T2DM    59.554001  74.857892  171.053782  \n",
       "Unrecognised T2DM  47.529515  52.995190  134.980324  "
      ]
     },
     "execution_count": 181,
     "metadata": {},
     "output_type": "execute_result"
    }
   ],
   "source": [
    "df.groupby('unrecognised_t2dm')['HbA1c_correct'].describe()"
   ]
  },
  {
   "cell_type": "code",
   "execution_count": 182,
   "metadata": {},
   "outputs": [
    {
     "data": {
      "text/plain": [
       "count    1303.000000\n",
       "mean        7.798542\n",
       "std         3.183047\n",
       "min         3.720000\n",
       "25%         6.110000\n",
       "50%         6.830000\n",
       "75%         8.020000\n",
       "max        29.810000\n",
       "Name: Glucose, refrigerated serum (mmol/L), dtype: float64"
      ]
     },
     "execution_count": 182,
     "metadata": {},
     "output_type": "execute_result"
    }
   ],
   "source": [
    "unrecognised_df['Glucose, refrigerated serum (mmol/L)'].describe()"
   ]
  },
  {
   "cell_type": "code",
   "execution_count": 183,
   "metadata": {},
   "outputs": [
    {
     "name": "stderr",
     "output_type": "stream",
     "text": [
      "/opt/anaconda3/lib/python3.7/site-packages/ipykernel_launcher.py:8: SettingWithCopyWarning: \n",
      "A value is trying to be set on a copy of a slice from a DataFrame.\n",
      "Try using .loc[row_indexer,col_indexer] = value instead\n",
      "\n",
      "See the caveats in the documentation: http://pandas.pydata.org/pandas-docs/stable/user_guide/indexing.html#returning-a-view-versus-a-copy\n",
      "  \n"
     ]
    }
   ],
   "source": [
    "def abnormal_rbg(row): \n",
    "    \n",
    "    if row['Glucose, refrigerated serum (mmol/L)'] >= 11.1: \n",
    "        return(1)\n",
    "    else: \n",
    "        return(0)\n",
    "    \n",
    "unrecognised_df['abnormal_rbg'] = unrecognised_df.apply(abnormal_rbg, axis=1)"
   ]
  },
  {
   "cell_type": "code",
   "execution_count": 184,
   "metadata": {},
   "outputs": [
    {
     "data": {
      "text/plain": [
       "0    1164\n",
       "1     152\n",
       "Name: abnormal_rbg, dtype: int64"
      ]
     },
     "execution_count": 184,
     "metadata": {},
     "output_type": "execute_result"
    }
   ],
   "source": [
    "unrecognised_df['abnormal_rbg'].value_counts(dropna=False)"
   ]
  },
  {
   "cell_type": "code",
   "execution_count": 185,
   "metadata": {},
   "outputs": [
    {
     "data": {
      "text/plain": [
       "0.11550151975683891"
      ]
     },
     "execution_count": 185,
     "metadata": {},
     "output_type": "execute_result"
    }
   ],
   "source": [
    "152/1316"
   ]
  },
  {
   "cell_type": "code",
   "execution_count": 190,
   "metadata": {},
   "outputs": [
    {
     "data": {
      "text/plain": [
       "unrecognised_t2dm  statin\n",
       "Not diabetic       0         17177\n",
       "                   1          2936\n",
       "Recognised T2DM    1          1017\n",
       "                   0           864\n",
       "Unrecognised T2DM  0           942\n",
       "                   1           374\n",
       "Name: statin, dtype: int64"
      ]
     },
     "execution_count": 190,
     "metadata": {},
     "output_type": "execute_result"
    }
   ],
   "source": [
    "df.groupby('unrecognised_t2dm')['statin'].value_counts(dropna=False)"
   ]
  },
  {
   "cell_type": "code",
   "execution_count": 186,
   "metadata": {},
   "outputs": [
    {
     "data": {
      "text/plain": [
       "unrecognised_t2dm  ace_arbs\n",
       "Not diabetic       0           17246\n",
       "                   1            2867\n",
       "Recognised T2DM    1            1021\n",
       "                   0             860\n",
       "Unrecognised T2DM  0             948\n",
       "                   1             368\n",
       "Name: ace_arbs, dtype: int64"
      ]
     },
     "execution_count": 186,
     "metadata": {},
     "output_type": "execute_result"
    }
   ],
   "source": [
    "df.groupby('unrecognised_t2dm')['ace_arbs'].value_counts(dropna=False)"
   ]
  },
  {
   "cell_type": "markdown",
   "metadata": {},
   "source": [
    "# Treatment "
   ]
  },
  {
   "cell_type": "code",
   "execution_count": 193,
   "metadata": {},
   "outputs": [
    {
     "data": {
      "text/plain": [
       "metformin       1750\n",
       "other_agents     651\n",
       "insulin          731\n",
       "ace_arbs        4256\n",
       "statin          4327\n",
       "dtype: int64"
      ]
     },
     "execution_count": 193,
     "metadata": {},
     "output_type": "execute_result"
    }
   ],
   "source": [
    "df[['metformin', 'other_agents', 'insulin', 'ace_arbs', 'statin']].sum()"
   ]
  },
  {
   "cell_type": "code",
   "execution_count": 194,
   "metadata": {},
   "outputs": [
    {
     "data": {
      "text/html": [
       "<div>\n",
       "<style scoped>\n",
       "    .dataframe tbody tr th:only-of-type {\n",
       "        vertical-align: middle;\n",
       "    }\n",
       "\n",
       "    .dataframe tbody tr th {\n",
       "        vertical-align: top;\n",
       "    }\n",
       "\n",
       "    .dataframe thead th {\n",
       "        text-align: right;\n",
       "    }\n",
       "</style>\n",
       "<table border=\"1\" class=\"dataframe\">\n",
       "  <thead>\n",
       "    <tr style=\"text-align: right;\">\n",
       "      <th></th>\n",
       "      <th>metformin</th>\n",
       "      <th>insulin</th>\n",
       "      <th>other_agents</th>\n",
       "    </tr>\n",
       "    <tr>\n",
       "      <th>known_diabetes</th>\n",
       "      <th></th>\n",
       "      <th></th>\n",
       "      <th></th>\n",
       "    </tr>\n",
       "  </thead>\n",
       "  <tbody>\n",
       "    <tr>\n",
       "      <th>1.0</th>\n",
       "      <td>1546</td>\n",
       "      <td>721</td>\n",
       "      <td>607</td>\n",
       "    </tr>\n",
       "    <tr>\n",
       "      <th>2.0</th>\n",
       "      <td>126</td>\n",
       "      <td>10</td>\n",
       "      <td>35</td>\n",
       "    </tr>\n",
       "    <tr>\n",
       "      <th>3.0</th>\n",
       "      <td>78</td>\n",
       "      <td>0</td>\n",
       "      <td>9</td>\n",
       "    </tr>\n",
       "  </tbody>\n",
       "</table>\n",
       "</div>"
      ],
      "text/plain": [
       "                metformin  insulin  other_agents\n",
       "known_diabetes                                  \n",
       "1.0                  1546      721           607\n",
       "2.0                   126       10            35\n",
       "3.0                    78        0             9"
      ]
     },
     "execution_count": 194,
     "metadata": {},
     "output_type": "execute_result"
    }
   ],
   "source": [
    "df.groupby('known_diabetes')[['metformin', 'insulin', 'other_agents']].sum()"
   ]
  },
  {
   "cell_type": "code",
   "execution_count": 161,
   "metadata": {},
   "outputs": [
    {
     "data": {
      "text/plain": [
       "known_diabetes  statin\n",
       "1.0             1          1459\n",
       "                0          1288\n",
       "2.0             0         17354\n",
       "                1          2695\n",
       "3.0             0           341\n",
       "                1           173\n",
       "Name: statin, dtype: int64"
      ]
     },
     "execution_count": 161,
     "metadata": {},
     "output_type": "execute_result"
    }
   ],
   "source": [
    "df.groupby('known_diabetes')['statin'].value_counts(dropna=False)"
   ]
  },
  {
   "cell_type": "code",
   "execution_count": 162,
   "metadata": {},
   "outputs": [
    {
     "data": {
      "text/plain": [
       "known_diabetes  ace_arbs\n",
       "1.0             1            1462\n",
       "                0            1285\n",
       "2.0             0           17424\n",
       "                1            2625\n",
       "3.0             0             345\n",
       "                1             169\n",
       "Name: ace_arbs, dtype: int64"
      ]
     },
     "execution_count": 162,
     "metadata": {},
     "output_type": "execute_result"
    }
   ],
   "source": [
    "df.groupby('known_diabetes')['ace_arbs'].value_counts(dropna=False)"
   ]
  },
  {
   "cell_type": "code",
   "execution_count": 163,
   "metadata": {},
   "outputs": [
    {
     "data": {
      "text/plain": [
       "0.12363655902423298"
      ]
     },
     "execution_count": 163,
     "metadata": {},
     "output_type": "execute_result"
    }
   ],
   "source": [
    "2301/(2301+16310)"
   ]
  },
  {
   "cell_type": "markdown",
   "metadata": {},
   "source": [
    "# Contribution to composite \n",
    "\n",
    "What proportion of people with dyglycaemia had an abnoraml biochemical result"
   ]
  },
  {
   "cell_type": "code",
   "execution_count": 229,
   "metadata": {},
   "outputs": [],
   "source": [
    "def composite(row): \n",
    "    \n",
    "    if ((row['hba1c_result'] == 1.0) & (row['ogtt_result'] == 1)): \n",
    "        return('Both')\n",
    "    \n",
    "    elif ((row['hba1c_result'] == 0.0) & (row['ogtt_result'] == 0)): \n",
    "        return('Neither')\n",
    "    \n",
    "    elif ((row['hba1c_result']== np.nan) & (row['ogtt_result'] == 0)): \n",
    "        return('Neither')\n",
    "    \n",
    "    elif ((row['hba1c_result'] == 0.0) & (row['ogtt_result'] == 1)): \n",
    "        return('OGTT only')\n",
    "    \n",
    "    elif ((row['hba1c_result'] == np.nan) & (row['ogtt_result'] == 1)): \n",
    "        return('OGTT only')\n",
    "    \n",
    "    elif ((row['hba1c_result'] == 1.0) & (row['ogtt_result'] == 0)): \n",
    "        return('HbA1c only')\n",
    "    "
   ]
  },
  {
   "cell_type": "code",
   "execution_count": 230,
   "metadata": {},
   "outputs": [],
   "source": [
    "diabetes_tests = ['hba1c_result', 'Fasting Glucose (mmol/L)', 'Two Hour Glucose(OGTT) (mmol/L)']"
   ]
  },
  {
   "cell_type": "code",
   "execution_count": 231,
   "metadata": {},
   "outputs": [],
   "source": [
    "#remove participants with no laboratory values \n",
    "labs = ['Alanine Aminotransferase (ALT) (U/L)',\n",
    "       'Albumin, refrigerated serum (g/dL)',\n",
    "       'Alkaline Phosphatase (ALP) (U/L)',\n",
    "       'Aspartate Aminotransferase (AST) (U/L)', 'Bicarbonate (mmol/L)',\n",
    "       'Blood Urea Nitrogen (g/dL)', 'Chloride (mmol/L)',\n",
    "       'Cholesterol, refrigerated serum (mg/dL)',\n",
    "       'Creatinine, refrigerated serum (umol/L)',\n",
    "       'Gamma Glutamyl Transferase (GGT) (U/L)',\n",
    "       'Glucose, refrigerated serum (mmol/L)', 'Potassium (mmol/L)',\n",
    "       'Sodium (mmol/L)', 'Total Bilirubin (umol/L)', 'Total Calcium (mmol/L)',\n",
    "       'Triglycerides, refrig serum (mg/dL)', 'LDL cholesterol (mmol/L)',\n",
    "       'HDL cholesterol (mmol/L)', 'eGFR', 'Fasting Glucose (mmol/L)',\n",
    "       'Two Hour Glucose(OGTT) (mmol/L)']"
   ]
  },
  {
   "cell_type": "code",
   "execution_count": 232,
   "metadata": {},
   "outputs": [],
   "source": [
    "df.dropna(how='all', subset=diabetes_tests, inplace=True)\n",
    "df.dropna(how='all', subset=labs, inplace=True)"
   ]
  },
  {
   "cell_type": "code",
   "execution_count": 233,
   "metadata": {},
   "outputs": [],
   "source": [
    "df['composite'] = df.apply(composite, axis=1)"
   ]
  },
  {
   "cell_type": "code",
   "execution_count": 238,
   "metadata": {},
   "outputs": [
    {
     "data": {
      "text/plain": [
       "Series([], Name: hba1c_result, dtype: int64)"
      ]
     },
     "execution_count": 238,
     "metadata": {},
     "output_type": "execute_result"
    }
   ],
   "source": [
    "df[df['composite'].isnull()]['hba1c_result'].value_counts()"
   ]
  },
  {
   "cell_type": "code",
   "execution_count": 235,
   "metadata": {},
   "outputs": [
    {
     "data": {
      "text/plain": [
       "Neither       18583\n",
       "NaN            1949\n",
       "HbA1c only     1175\n",
       "Both            858\n",
       "OGTT only       745\n",
       "Name: composite, dtype: int64"
      ]
     },
     "execution_count": 235,
     "metadata": {},
     "output_type": "execute_result"
    }
   ],
   "source": [
    "df['composite'].value_counts(dropna=False)"
   ]
  },
  {
   "cell_type": "code",
   "execution_count": 201,
   "metadata": {},
   "outputs": [
    {
     "data": {
      "text/plain": [
       "Neither       18583\n",
       "NaN            1949\n",
       "HbA1c only     1175\n",
       "Both            858\n",
       "OGTT only       745\n",
       "Name: composite, dtype: int64"
      ]
     },
     "execution_count": 201,
     "metadata": {},
     "output_type": "execute_result"
    }
   ],
   "source": [
    "df.dropna(how='all', subset=diabetes_tests)['composite'].value_counts(dropna=False)"
   ]
  },
  {
   "cell_type": "code",
   "execution_count": 237,
   "metadata": {},
   "outputs": [
    {
     "data": {
      "text/plain": [
       "1164"
      ]
     },
     "execution_count": 237,
     "metadata": {},
     "output_type": "execute_result"
    }
   ],
   "source": [
    "419+745"
   ]
  },
  {
   "cell_type": "code",
   "execution_count": null,
   "metadata": {},
   "outputs": [],
   "source": [
    "2022"
   ]
  }
 ],
 "metadata": {
  "kernelspec": {
   "display_name": "Python 3",
   "language": "python",
   "name": "python3"
  },
  "language_info": {
   "codemirror_mode": {
    "name": "ipython",
    "version": 3
   },
   "file_extension": ".py",
   "mimetype": "text/x-python",
   "name": "python",
   "nbconvert_exporter": "python",
   "pygments_lexer": "ipython3",
   "version": "3.7.4"
  }
 },
 "nbformat": 4,
 "nbformat_minor": 4
}
